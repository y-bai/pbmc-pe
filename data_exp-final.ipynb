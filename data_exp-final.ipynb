{
 "cells": [
  {
   "cell_type": "code",
   "execution_count": 1,
   "id": "82a5c9f0-d531-47ab-83ba-a671650a3276",
   "metadata": {},
   "outputs": [],
   "source": [
    "import os\n",
    "import numpy as np\n",
    "import pandas as pd\n",
    "import scanpy as sc\n",
    "import shap\n",
    "\n",
    "import pe_utils as helper\n",
    "\n",
    "import matplotlib as mpl\n",
    "import matplotlib.pyplot as plt\n",
    "\n",
    "\n",
    "import seaborn as sns\n",
    "font_size = 10\n",
    "rc={'font.size': font_size, 'axes.labelsize': font_size, 'figure.dpi':400, 'axes.linewidth':0.5,\n",
    "    'axes.titlesize': font_size, 'xtick.labelsize': font_size, 'ytick.labelsize': font_size} # 'figure.figsize':(11.7/1.5,8.27/1.5)\n",
    "\n",
    "sns.set(style='ticks',rc=rc) #talk, ticks, paper\n",
    "sns.set_context(\"paper\")\n",
    "\n",
    "mpl.rcParams['pdf.fonttype'] = 42\n",
    "mpl.rcParams['ps.fonttype'] = 42\n",
    "\n",
    "mpl.rcParams['font.sans-serif'] = \"Arial\"\n",
    "mpl.rcParams['font.family'] = \"sans-serif\"\n",
    "plt.rcParams['axes.unicode_minus']=False # negative minus sign\n",
    "plt.rcParams['axes.grid'] = False"
   ]
  },
  {
   "cell_type": "code",
   "execution_count": 2,
   "id": "e69c02cc-d5c5-46c1-b8aa-1e12552c6897",
   "metadata": {},
   "outputs": [
    {
     "data": {
      "text/plain": [
       "'1.0.2'"
      ]
     },
     "execution_count": 2,
     "metadata": {},
     "output_type": "execute_result"
    }
   ],
   "source": [
    "import sklearn\n",
    "sklearn.__version__"
   ]
  },
  {
   "cell_type": "code",
   "execution_count": 3,
   "id": "e2cb2fe2-3fe7-42f9-9880-270526aa8125",
   "metadata": {},
   "outputs": [
    {
     "name": "stdout",
     "output_type": "stream",
     "text": [
      "scanpy==1.9.1 anndata==0.8.0 umap==0.5.3 numpy==1.21.5 scipy==1.9.1 pandas==1.4.4 scikit-learn==1.0.2 statsmodels==0.13.2 python-igraph==0.10.2 pynndescent==0.5.7\n"
     ]
    }
   ],
   "source": [
    "sc.settings.verbosity = 3             # verbosity: errors (0), warnings (1), info (2), hints (3)\n",
    "sc.logging.print_header()\n",
    "sc.settings.set_figure_params(dpi=300, facecolor='white')\n",
    "\n",
    "%matplotlib inline"
   ]
  },
  {
   "cell_type": "code",
   "execution_count": 4,
   "id": "8017ef6a-afde-4efd-bed3-c87f7b831179",
   "metadata": {},
   "outputs": [],
   "source": [
    "# dir_root=r'E:\\pbmc_pe\\data'\n",
    "adata_fname = r'E:\\pbmc_pe\\data\\Matrix\\win_sc_data.h5ad'\n",
    "adata = sc.read_h5ad(adata_fname)"
   ]
  },
  {
   "cell_type": "code",
   "execution_count": 5,
   "id": "4df7ea1f-7356-4967-8d48-f3caf4c4a1fb",
   "metadata": {},
   "outputs": [],
   "source": [
    "adata.raw = adata"
   ]
  },
  {
   "cell_type": "code",
   "execution_count": 6,
   "id": "390c68bb-0708-4c60-a582-e673b519b5a4",
   "metadata": {},
   "outputs": [
    {
     "data": {
      "text/plain": [
       "AnnData object with n_obs × n_vars = 28774 × 17809\n",
       "    obs: 'orig.ident', 'nCount_RNA', 'nFeature_RNA', 'group', 'percent.ercc', 'percent.rp', 'percent.mt', 'percent.ncRNA', 'percent.LOC', 'percent.HB', 'nCount_SCT', 'nFeature_SCT', 'SCT_snn_res.0.3', 'seurat_clusters', 'celltype_l1', 'celltype_l2'"
      ]
     },
     "execution_count": 6,
     "metadata": {},
     "output_type": "execute_result"
    }
   ],
   "source": [
    "adata"
   ]
  },
  {
   "cell_type": "markdown",
   "id": "8e3e8a88-3dec-4e2a-b284-8b33b0aa6532",
   "metadata": {},
   "source": [
    "# preprocessing"
   ]
  },
  {
   "cell_type": "code",
   "execution_count": 7,
   "id": "f70b1024-950f-48a0-aeca-9009816fbb4c",
   "metadata": {},
   "outputs": [
    {
     "name": "stdout",
     "output_type": "stream",
     "text": [
      "filtered out 41 cells that have less than 200 genes expressed\n",
      "filtered out 241 genes that are detected in less than 3 cells\n"
     ]
    },
    {
     "name": "stderr",
     "output_type": "stream",
     "text": [
      "Received a view of an AnnData. Making a copy.\n"
     ]
    },
    {
     "name": "stdout",
     "output_type": "stream",
     "text": [
      "normalizing counts per cell\n",
      "    finished (0:00:00)\n",
      "If you pass `n_top_genes`, all cutoffs are ignored.\n",
      "extracting highly variable genes\n",
      "    finished (0:00:00)\n"
     ]
    },
    {
     "name": "stderr",
     "output_type": "stream",
     "text": [
      "Trying to modify attribute `._uns` of view, initializing view as actual.\n"
     ]
    },
    {
     "name": "stdout",
     "output_type": "stream",
     "text": [
      "--> added\n",
      "    'highly_variable', boolean vector (adata.var)\n",
      "    'means', float vector (adata.var)\n",
      "    'dispersions', float vector (adata.var)\n",
      "    'dispersions_norm', float vector (adata.var)\n"
     ]
    }
   ],
   "source": [
    "sc.pp.filter_cells(adata, min_genes=200)\n",
    "sc.pp.filter_genes(adata, min_cells=3)\n",
    "\n",
    "adata.var['mt'] = adata.var_names.str.startswith('MT-')  # annotate the group of mitochondrial genes as 'mt'\n",
    "sc.pp.calculate_qc_metrics(adata, qc_vars=['mt'], percent_top=None, log1p=False, inplace=True)\n",
    "\n",
    "# assume data has been filtered\n",
    "# adata = adata[adata.obs.n_genes_by_counts < 2500, :]\n",
    "adata = adata[adata.obs.pct_counts_mt < 5, :]\n",
    "\n",
    "sc.pp.normalize_total(adata, target_sum=1e4)\n",
    "sc.pp.log1p(adata)\n",
    "\n",
    "# filter gene\n",
    "gene_excl = 'HBB,HBA1,HBA2,BBPB,HGHA1,IGHG1,HGHM,IGKC,IGLC3,PDE4B,FTH1P2,HLA-J,FAUP1,PTMAP2,FTH1P8'.split(',')\n",
    "adata = adata[:, [x for x in adata.var_names if x not in gene_excl]]\n",
    "\n",
    "# sc.pp.highly_variable_genes(adata, min_mean=0.0125, max_mean=3, min_disp=0.5)\n",
    "sc.pp.highly_variable_genes(adata,  n_top_genes=2000)\n",
    "adata = adata[:, adata.var.highly_variable]\n"
   ]
  },
  {
   "cell_type": "markdown",
   "id": "e6063c00-2833-49cd-b587-6bb5d3b48776",
   "metadata": {},
   "source": [
    "# combine cell type"
   ]
  },
  {
   "cell_type": "code",
   "execution_count": 8,
   "id": "3d28dc0b-7a35-4141-a003-fc048d39a687",
   "metadata": {},
   "outputs": [
    {
     "data": {
      "text/plain": [
       "'\\nTotal B: Naive B 1; Naive B 2; Naive B 3; Unswitched Memory B; Switched Memory B 1; Switched Memory B 2; Plasma B\\nTotal T and NK: XCL+ NK; CD16+ NK; CD160+ NK; CD8+ NK-like; CD8+ CTL; CD8+ Tn 1; CD8+ Tn 2; MAIT; CD4+ Tcm; CD4+ Tm; CD4+ Tn 1; CD4+ Tn 2; Treg; Cycling T; γδT\\nCD4+ Tn 2\\nCD8+ Tn 2\\nMono: Mono;IFN+ non-classical Mono;non-classical Mono;Classical Mono;IFN+ non-classical Mono\\nTreg\\n'"
      ]
     },
     "execution_count": 8,
     "metadata": {},
     "output_type": "execute_result"
    }
   ],
   "source": [
    "\"\"\"\n",
    "Total B: Naive B 1; Naive B 2; Naive B 3; Unswitched Memory B; Switched Memory B 1; Switched Memory B 2; Plasma B\n",
    "Total T and NK: XCL+ NK; CD16+ NK; CD160+ NK; CD8+ NK-like; CD8+ CTL; CD8+ Tn 1; CD8+ Tn 2; MAIT; CD4+ Tcm; CD4+ Tm; CD4+ Tn 1; CD4+ Tn 2; Treg; Cycling T; γδT\n",
    "CD4+ Tn 2\n",
    "CD8+ Tn 2\n",
    "Mono: Mono;IFN+ non-classical Mono;non-classical Mono;Classical Mono;IFN+ non-classical Mono\n",
    "Treg\n",
    "\"\"\""
   ]
  },
  {
   "cell_type": "code",
   "execution_count": 9,
   "id": "952d9b88-6f9d-4b0f-9e48-d2103a23d826",
   "metadata": {},
   "outputs": [],
   "source": [
    "total_b_str = 'Naive B 1; Naive B 2; Naive B 3; Unswitched Memory B; Switched Memory B 1; Switched Memory B 2; Plasma B'\n",
    "total_t_nk_str = 'XCL+ NK; CD16+ NK; CD160+ NK; CD8+ NK-like; CD8+ CTL; CD8+ Tn 1; CD8+ Tn 2; MAIT; CD4+ Tcm; CD4+ Tm; CD4+ Tn 1; CD4+ Tn 2; Treg; Cycling T; γδT'\n",
    "mono_str = 'Mono;Non-classical Mono;Classical Mono;IFN+ Non-classical Mono'\n",
    "\n",
    "total_b = [x.strip() for x in total_b_str.split(';')]\n",
    "total_t_nk = [x.strip() for x in total_t_nk_str.split(';')]\n",
    "mono = [x.strip() for x in mono_str.split(';')]"
   ]
  },
  {
   "cell_type": "code",
   "execution_count": 10,
   "id": "f5cdb0b4-92c6-4c19-b192-85aa1e1ee10c",
   "metadata": {},
   "outputs": [],
   "source": [
    "celltype_l3 = adata.obs['celltype_l2'].copy().to_frame()\n",
    "\n",
    "celltype_l3['celltype_l3']=celltype_l3['celltype_l2'].apply(lambda x: 'Total B' if x in total_b else x)\n",
    "celltype_l3['celltype_l3']=celltype_l3['celltype_l3'].apply(lambda x: 'Total T and NK' if x in total_t_nk else x)\n",
    "celltype_l3['celltype_l3']=celltype_l3['celltype_l3'].apply(lambda x: 'Mono' if x in mono else x)"
   ]
  },
  {
   "cell_type": "code",
   "execution_count": 11,
   "id": "933bb163-7d47-4f06-86af-d30b9c81f390",
   "metadata": {},
   "outputs": [],
   "source": [
    "# from collections import Counter\n",
    "# print('n_cells'+'--'*10)\n",
    "# print(Counter(adata.obs['group'].values))\n",
    "\n",
    "# cell_type1=Counter(adata.obs['celltype_l1'].values)\n",
    "# print('n_cells per type1'+'--'*10)\n",
    "# print(cell_type1.most_common())\n",
    "\n",
    "# cell_type2=Counter(adata.obs['celltype_l2'].values)\n",
    "# print('n_cells per type2'+'--'*10)\n",
    "# print(cell_type2.most_common())\n",
    "\n",
    "# # patients number\n",
    "# print('n_patients'+'--'*10)\n",
    "# print(np.unique(adata.obs['orig.ident'].values))\n",
    "# # 23(NP:15, PE:8)"
   ]
  },
  {
   "cell_type": "code",
   "execution_count": 12,
   "id": "86285fc2-8918-4c77-8f7c-b98d76950eb0",
   "metadata": {},
   "outputs": [],
   "source": [
    "Total_B = celltype_l3[celltype_l3['celltype_l3']=='Total B']\n",
    "Total_T_NK = celltype_l3[celltype_l3['celltype_l3']=='Total T and NK']\n",
    "Total_Mono = celltype_l3[celltype_l3['celltype_l3']=='Mono']\n",
    "cd4_tn2 = celltype_l3[celltype_l3['celltype_l2']=='CD4+ Tn 2']\n",
    "cd8_tn2 = celltype_l3[celltype_l3['celltype_l2']=='CD8+ Tn 2']\n",
    "Treg = celltype_l3[celltype_l3['celltype_l2']=='Treg']\n"
   ]
  },
  {
   "cell_type": "code",
   "execution_count": 13,
   "id": "a15c28b0-9644-4e9f-8000-64c64baa0e6d",
   "metadata": {},
   "outputs": [],
   "source": [
    "\n",
    "final_cell_types={'Total_B':Total_B, 'Total_T_NK':Total_T_NK, 'Total_Mono':Total_Mono, 'cd4_tn2':cd4_tn2, 'cd8_tn2':cd8_tn2, 'Treg':Treg}\n"
   ]
  },
  {
   "cell_type": "code",
   "execution_count": 14,
   "id": "30f4950e-d499-4a4f-bc4f-50dcdc4e27bf",
   "metadata": {},
   "outputs": [
    {
     "name": "stderr",
     "output_type": "stream",
     "text": [
      "Trying to modify attribute `.obs` of view, initializing view as actual.\n"
     ]
    }
   ],
   "source": [
    "obs_celltype=pd.DataFrame(index=adata.obs_names)\n",
    "obs_celltype['Total_B']=adata.obs_names.isin(Total_B.index)\n",
    "obs_celltype['Total_T_NK']=adata.obs_names.isin(Total_T_NK.index)\n",
    "obs_celltype['Total_Mono']=adata.obs_names.isin(Total_Mono.index)\n",
    "obs_celltype['cd4_tn2']=adata.obs_names.isin(cd4_tn2.index)\n",
    "obs_celltype['cd8_tn2']=adata.obs_names.isin(cd8_tn2.index)\n",
    "obs_celltype['Treg']=adata.obs_names.isin(Treg.index)\n",
    "\n",
    "adata.obs[obs_celltype.columns] = obs_celltype"
   ]
  },
  {
   "cell_type": "code",
   "execution_count": 15,
   "id": "098b3ad0-fd76-49d5-8d6c-234cce25a867",
   "metadata": {},
   "outputs": [
    {
     "data": {
      "text/plain": [
       "AnnData object with n_obs × n_vars = 28733 × 2000\n",
       "    obs: 'orig.ident', 'nCount_RNA', 'nFeature_RNA', 'group', 'percent.ercc', 'percent.rp', 'percent.mt', 'percent.ncRNA', 'percent.LOC', 'percent.HB', 'nCount_SCT', 'nFeature_SCT', 'SCT_snn_res.0.3', 'seurat_clusters', 'celltype_l1', 'celltype_l2', 'n_genes', 'n_genes_by_counts', 'total_counts', 'total_counts_mt', 'pct_counts_mt', 'Total_B', 'Total_T_NK', 'Total_Mono', 'cd4_tn2', 'cd8_tn2', 'Treg'\n",
       "    var: 'n_cells', 'mt', 'n_cells_by_counts', 'mean_counts', 'pct_dropout_by_counts', 'total_counts', 'highly_variable', 'means', 'dispersions', 'dispersions_norm'\n",
       "    uns: 'log1p', 'hvg'"
      ]
     },
     "execution_count": 15,
     "metadata": {},
     "output_type": "execute_result"
    }
   ],
   "source": [
    "adata"
   ]
  },
  {
   "cell_type": "code",
   "execution_count": 16,
   "id": "6baebba0-9748-4c36-ae2e-de778041003f",
   "metadata": {},
   "outputs": [],
   "source": [
    "# cell2_d=pd.DataFrame(cell_type2.most_common(), columns=['ct1','cnt'])\n",
    "# ax=cell2_d.plot.bar(x='ct1',y='cnt',rot=90, legend=False)\n",
    "# ax.bar_label(ax.containers[0])\n",
    "# ax.set_ylabel('Cell Count')\n",
    "# ax.set_xlabel('')\n",
    "# # plt.axhline(y=1000, color=\"black\", linestyle=\"--\")\n",
    "# # ax.annotate(\"1000\", xy=(0, 0), xytext=(5.5, 1100),color='black')\n",
    "\n",
    "# cnt_thre=800\n",
    "# cell2_d_cnt_thre = cell2_d[cell2_d['cnt']>cnt_thre]\n",
    "# ct_thre = cell2_d_cnt_thre['ct1'].values\n",
    "# print(ct_thre, len(ct_thre))\n"
   ]
  },
  {
   "cell_type": "code",
   "execution_count": 17,
   "id": "1a78b36c-f9e5-4dce-9cb6-e18a6bd97c56",
   "metadata": {},
   "outputs": [],
   "source": [
    "\n",
    "adata.write_h5ad(r'E:\\pbmc_pe\\data\\Matrix\\win_sc_data_preprocessed.h5ad')"
   ]
  },
  {
   "cell_type": "markdown",
   "id": "54968007-8955-4ced-b99c-04b9a4c800be",
   "metadata": {},
   "source": [
    "# BUILD model"
   ]
  },
  {
   "cell_type": "code",
   "execution_count": 18,
   "id": "b0890351-898f-4f54-a5af-94d552011cf4",
   "metadata": {},
   "outputs": [],
   "source": [
    "adata = sc.read_h5ad(r'E:\\pbmc_pe\\data\\Matrix\\win_sc_data_preprocessed.h5ad')"
   ]
  },
  {
   "cell_type": "code",
   "execution_count": 20,
   "id": "d8c7ff70-9b74-4b66-9367-d6f362de30b1",
   "metadata": {},
   "outputs": [
    {
     "name": "stdout",
     "output_type": "stream",
     "text": [
      "(870, 2000)\n",
      "(1571, 2000)\n",
      "(2477, 2000)\n",
      "(837, 2000)\n"
     ]
    }
   ],
   "source": [
    "for typess in ['Total_Mono', 'cd4_tn2', 'cd8_tn2', 'Treg']:\n",
    "    # print(typess, ' length:', len(final_cell_types[typess].index))\n",
    "    print(adata[adata.obs[typess]].shape)"
   ]
  },
  {
   "cell_type": "code",
   "execution_count": 20,
   "id": "67c639fa-4b80-4ba5-8739-22aeea9704dc",
   "metadata": {},
   "outputs": [],
   "source": [
    "gene_exclu={}\n",
    "gene_exclu['Total_B']=[\"GNLY\", \"NKG7\", \"IL7R\", \"PRF1\", \"KLRB1\", \"KLRD1\",\"TMSB4XP4\", \"Z74021.1\", \n",
    "                       \"IL32\", \"TRBC1\",\"MTND1P23\",\"GZMA\",\"GZMB\", \"GZMH\",\"TRDC\"]\n",
    "gene_exclu['Total_T_NK']=[\"IGHA1\",\"TMSB4XP4\", \"IGHM\",\"MTND1P23\",\"Z74021.1\",\"JCHAIN\",\"MS4A1\",\"IGLL5\", \"IGLC2\",\n",
    "                         \"IGHG4\",\"OTUD6B-AS1\", \"IGLC1\", \"IGHG3\", \"PPBP\", \"GABPB1-AS1\",\"PF4\", \"IGHG2\",\n",
    "                         \"CD79A\",\"CD79B\",\"MZB1\",\"IGHD\",\"IGHGP\", \"CD19\"]\n",
    "gene_exclu['Total_Mono']=[\"IGHA1\",\"PRF1\",\"GNLY\",\"NKG7\",\"GZMB\", \"TRBC1\",\"KLRD1\", \"IRF1\", \"IL7R\"]\n",
    "gene_exclu['cd4_tn2']=[\"NKG7\", \"IGHA1\",  \"PRF1\", \"KLRD1\", \"GNLY\",\"TMSB4XP4\", \"Z74021.1\", \"GZMB\",  \"GZMA\"]\n",
    "gene_exclu['cd8_tn2']=[\"IGHA1\", \"TMSB4XP4\", \"Z74021.1\", \"RNU4-2\"]\n",
    "gene_exclu['Treg']=[\"GNLY\", \"TMSB4XP4\",\"GZMB\", \"NKG7\", \"GZMA\"]\n"
   ]
  },
  {
   "cell_type": "code",
   "execution_count": 21,
   "id": "0807de62-8254-4116-8513-093de63b84ff",
   "metadata": {},
   "outputs": [
    {
     "name": "stdout",
     "output_type": "stream",
     "text": [
      "Total_B\n",
      "The best score:  0.9106498804486153\n",
      "The best parameters:  {'n_estimators': 200, 'min_samples_split': 10, 'min_samples_leaf': 4, 'max_depth': 18}\n",
      "Total_T_NK\n",
      "The best score:  0.9263566085613313\n",
      "The best parameters:  {'n_estimators': 200, 'min_samples_split': 10, 'min_samples_leaf': 4, 'max_depth': 18}\n",
      "Total_Mono\n",
      "The best score:  0.9103351629246366\n",
      "The best parameters:  {'n_estimators': 200, 'min_samples_split': 10, 'min_samples_leaf': 2, 'max_depth': 9}\n",
      "cd4_tn2\n",
      "The best score:  0.9294793126334653\n",
      "The best parameters:  {'n_estimators': 200, 'min_samples_split': 10, 'min_samples_leaf': 2, 'max_depth': 9}\n",
      "cd8_tn2\n",
      "The best score:  0.9323527869169782\n",
      "The best parameters:  {'n_estimators': 52, 'min_samples_split': 5, 'min_samples_leaf': 2, 'max_depth': 14}\n",
      "Treg\n",
      "The best score:  0.8434264580629\n",
      "The best parameters:  {'n_estimators': 126, 'min_samples_split': 10, 'min_samples_leaf': 4, 'max_depth': 11}\n"
     ]
    }
   ],
   "source": [
    "\n",
    "results=dict()\n",
    "# for index, row in cell2_d_cnt_thre.iterrows():\n",
    "for k,v in final_cell_types.items():\n",
    "    print(k)\n",
    "    ires=dict()\n",
    "    cell_type = k\n",
    "    cell_ids=final_cell_types[k].index\n",
    "    \n",
    "    pd_X_train_norm, pd_X_test_norm,y_train,y_test, pat_train,pat_test,scal_mean_var = helper.get_data2(adata, cell_ids, n_cell_pseudo=5)\n",
    "    \n",
    "    feat_sel_list = helper.feat_sel_comb(pd_X_train_norm, y_train, percentile=20)\n",
    "#     feat_dict[i_cell_type]=feat_sel_list\n",
    "#     feat_f=[x for x in feat_sel[i_cell_type] if x not in gene_excl]\n",
    "    feat_f=[x for x in feat_sel_list if x not in gene_excl]\n",
    "    \n",
    "    feat_f=[x for x in feat_f if x not in gene_exclu[k]]\n",
    "    \n",
    "    pd_X_train_sel=pd_X_train_norm[feat_f]\n",
    "    pd_X_test_sel=pd_X_test_norm[feat_f]\n",
    "    \n",
    "    ires['pd_X_tr']=pd_X_train_sel\n",
    "    ires['pd_X_te']=pd_X_test_sel\n",
    "    ires['y_tr']=y_train\n",
    "    ires['y_te']=y_test\n",
    "    ires['pat_tr']=pat_train\n",
    "    ires['pat_te']=pat_test\n",
    "    \n",
    "    ires['feat_list']=feat_f\n",
    "    ires['feat_mean']=scal_mean_var\n",
    "    \n",
    "    rf_random = helper.cv_train_rf(pd_X_train_sel, y_train)\n",
    "    rf_cv_results = pd.DataFrame(rf_random.cv_results_)\n",
    "    print('The best score: ',rf_random.best_score_)\n",
    "    best_params = rf_random.best_params_\n",
    "    print('The best parameters: ', best_params)\n",
    "    \n",
    "    ires['train_res']=rf_cv_results\n",
    "    ires['best_param']=best_params\n",
    "    \n",
    "    best_model = rf_random.best_estimator_\n",
    "    pred_prob_y = best_model.predict_proba(pd_X_test_sel)\n",
    "    pred_y = best_model.predict(pd_X_test_sel)\n",
    "    ires['best_model']=best_model\n",
    "    ires['test_res']=pred_prob_y[:,1]\n",
    "    \n",
    "    explainer = shap.TreeExplainer(best_model)\n",
    "    shap_values = explainer.shap_values(pd_X_train_sel) # same to x\n",
    "    ires['shap_values']=shap_values\n",
    "    \n",
    "    results[cell_type]=ires\n"
   ]
  },
  {
   "cell_type": "code",
   "execution_count": 22,
   "id": "93d98ab3-a9a5-4083-842f-b278b7c1e226",
   "metadata": {},
   "outputs": [],
   "source": [
    "import pickle\n",
    "with open('pseudo5-final-results.pkl','wb') as f:\n",
    "    pickle.dump(results, f)"
   ]
  },
  {
   "cell_type": "code",
   "execution_count": 24,
   "id": "7a15e90e-999c-436d-ac73-263286276136",
   "metadata": {},
   "outputs": [],
   "source": [
    "# with open('results.pkl','rb') as f:\n",
    "#     reltss = pickle.load(f)"
   ]
  },
  {
   "cell_type": "code",
   "execution_count": 23,
   "id": "d5e9bb3b",
   "metadata": {},
   "outputs": [],
   "source": [
    "import pickle\n",
    "with open('pseudo5-final-results.pkl','rb') as f:\n",
    "    res = pickle.load(f)"
   ]
  },
  {
   "cell_type": "code",
   "execution_count": 24,
   "id": "cb91d4cf-852c-4775-a3dc-a78111fc8fee",
   "metadata": {},
   "outputs": [
    {
     "name": "stdout",
     "output_type": "stream",
     "text": [
      "Total_Mono\n",
      "608 126 39 87\n",
      "262 55 17 38\n",
      "cd4_tn2\n",
      "1097 226 47 179\n",
      "474 98 20 78\n",
      "cd8_tn2\n",
      "1731 354 80 274\n",
      "746 152 34 118\n",
      "Treg\n",
      "590 123 33 90\n",
      "247 54 14 40\n"
     ]
    }
   ],
   "source": [
    "# \n",
    "for typess in ['Total_Mono', 'cd4_tn2', 'cd8_tn2','Treg']:\n",
    "    i_pat_tr = res[typess]['pat_tr']\n",
    "    i_pat_te = res[typess]['pat_te']\n",
    "    \n",
    "    i_y_tr = res[typess]['y_tr']\n",
    "    i_y_te = res[typess]['y_te']\n",
    "    \n",
    "    sc_cnts_tr = sum([int(x.split('_')[-1]) for x in i_pat_tr.values])\n",
    "    sc_cnts_te = sum([int(x.split('_')[-1]) for x in i_pat_te.values])\n",
    "    \n",
    "    print(typess)\n",
    "    print(sc_cnts_tr, len(i_pat_tr), np.sum(i_y_tr==1),np.sum(i_y_tr==0)) \n",
    "    print(sc_cnts_te, len(i_pat_te), np.sum(i_y_te==1),np.sum(i_y_te==0) )\n",
    "    \n",
    "    \n",
    "    "
   ]
  },
  {
   "cell_type": "code",
   "execution_count": 31,
   "id": "22898def-b31e-430a-a75a-c2578741c636",
   "metadata": {},
   "outputs": [
    {
     "data": {
      "text/plain": [
       "590"
      ]
     },
     "execution_count": 31,
     "metadata": {},
     "output_type": "execute_result"
    }
   ],
   "source": []
  },
  {
   "cell_type": "code",
   "execution_count": null,
   "id": "c2b07661-2762-45cd-b5bb-6615ee1ccbf1",
   "metadata": {},
   "outputs": [],
   "source": []
  }
 ],
 "metadata": {
  "kernelspec": {
   "display_name": "Python 3 (ipykernel)",
   "language": "python",
   "name": "python3"
  },
  "language_info": {
   "codemirror_mode": {
    "name": "ipython",
    "version": 3
   },
   "file_extension": ".py",
   "mimetype": "text/x-python",
   "name": "python",
   "nbconvert_exporter": "python",
   "pygments_lexer": "ipython3",
   "version": "3.9.13"
  }
 },
 "nbformat": 4,
 "nbformat_minor": 5
}
